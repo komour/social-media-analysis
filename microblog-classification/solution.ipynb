{
 "cells": [
  {
   "cell_type": "markdown",
   "metadata": {},
   "source": [
    "##### Definition of the Cleaner class"
   ]
  },
  {
   "cell_type": "code",
   "execution_count": 195,
   "metadata": {
    "pycharm": {
     "name": "#%%\n"
    }
   },
   "outputs": [],
   "source": [
    "import re\n",
    "import unicodedata\n",
    "\n",
    "\n",
    "def remove_punctuation(string_data: str):\n",
    "    pattern_punctuation = re.compile(r\"[\\-\\\"`$%^&*(|)/~\\[\\]{}:;+,._='?!]+\")\n",
    "    return pattern_punctuation.sub('', string_data)\n",
    "\n",
    "\n",
    "def remove_small_tweets(xs, ys):\n",
    "    # ys = [ys[i] for i in range(0, len(ys)) if len(xs[i]) > 3]\n",
    "    # xs = [x for x in xs if len(x) > 3]\n",
    "    return xs, ys\n",
    "\n",
    "\n",
    "class Cleaner:\n",
    "    def __init__(self):\n",
    "        self.__regex_dict = {\n",
    "            'URL': r\"\"\"(?xi)\\b(?:(?:https?|ftp|file):\\/\\/|www\\.|ftp\\.|pic\\.|twitter\\.|facebook\\.)(?:\\([-A-Z0-9+&@#\\/%=~_|$?!:;,.]*\\)|[-A-Z0-9+&@#\\/%=~_|$?!:;,.])*(?:\\([-A-Z0-9+&@#\\/%=~_|$?!:,.]*\\)|[A-Z0-9+&@#\\/%=~_|$])\"\"\",\n",
    "            'EMOJI': u'([\\U0001F1E0-\\U0001F1FF])|([\\U0001F300-\\U0001F5FF])|([\\U0001F600-\\U0001F64F])|([\\U0001F680-\\U0001F6FF])|([\\U0001F700-\\U0001F77F])|([\\U0001F800-\\U0001F8FF])|([\\U0001F900-\\U0001F9FF])|([\\U0001FA00-\\U0001FA6F])|([\\U0001FA70-\\U0001FAFF])|([\\U00002702-\\U000027B0])|([\\U00002600-\\U000027BF])|([\\U0001f300-\\U0001f64F])|([\\U0001f680-\\U0001f6FF])',\n",
    "            'HASHTAG': r\"\\#\\b[\\w\\-\\_]+\\b\",\n",
    "            'EMAIL': r\"(?:^|(?<=[^\\w@.)]))(?:[\\w+-](?:\\.(?!\\.))?)*?[\\w+-]@(?:\\w-?)*?\\w+(?:\\.(?:[a-z]{2,})){1,3}(?:$|(?=\\b))\",\n",
    "            'MENTION': r\"@[A-Za-z0-9]+\",\n",
    "            'CASHTAG': r\"(?:[$\\u20ac\\u00a3\\u00a2]\\d+(?:[\\\\.,']\\d+)?(?:[MmKkBb](?:n|(?:il(?:lion)?))?)?)|(?:\\d+(?:[\\\\.,']\\\\d+)?[$\\u20ac\\u00a3\\u00a2])\",\n",
    "            'DATE': r\"(?:(?:(?:(?:(?<!:)\\b\\'?\\d{1,4},? ?)?\\b(?:[Jj]an(?:uary)?|[Ff]eb(?:ruary)?|[Mm]ar(?:ch)?|[Aa]pr(?:il)?|May|[Jj]un(?:e)?|[Jj]ul(?:y)?|[Aa]ug(?:ust)?|[Ss]ept?(?:ember)?|[Oo]ct(?:ober)?|[Nn]ov(?:ember)?|[Dd]ec(?:ember)?)\\b(?:(?:,? ?\\'?)?\\d{1,4}(?:st|nd|rd|n?th)?\\b(?:[,\\\\/]? ?\\'?\\d{2,4}[a-zA-Z]*)?(?: ?- ?\\d{2,4}[a-zA-Z]*)?(?!:\\d{1,4})\\b))|(?:(?:(?<!:)\\b\\\\'?\\d{1,4},? ?)\\b(?:[Jj]an(?:uary)?|[Ff]eb(?:ruary)?|[Mm]ar(?:ch)?|[Aa]pr(?:il)?|May|[Jj]un(?:e)?|[Jj]ul(?:y)?|[Aa]ug(?:ust)?|[Ss]ept?(?:ember)?|[Oo]ct(?:ober)?|[Nn]ov(?:ember)?|[Dd]ec(?:ember)?)\\b(?:(?:,? ?\\'?)?\\d{1,4}(?:st|nd|rd|n?th)?\\b(?:[,\\\\/]? ?\\'?\\d{2,4}[a-zA-Z]*)?(?: ?- ?\\d{2,4}[a-zA-Z]*)?(?!:\\d{1,4})\\b)?))|(?:\\b(?<!\\d\\\\.)(?:(?:(?:[0123]?[0-9][\\\\.\\\\-\\\\/])?[0123]?[0-9][\\\\.\\\\-\\\\/][12][0-9]{3})|(?:[0123]?[0-9][\\\\.\\\\-\\\\/][0123]?[0-9][\\\\.\\\\-\\\\/][12]?[0-9]{2,3}))(?!\\.\\d)\\b))\",\n",
    "            'TIME': r'(?:(?:\\d+)?\\\\.?\\d+(?:AM|PM|am|pm|a\\\\.m\\\\.|p\\\\.m\\\\.))|(?:(?:[0-2]?[0-9]|[2][0-3]):(?:[0-5][0-9])(?::(?:[0-5][0-9]))?(?: ?(?:AM|PM|am|pm|a\\\\.m\\\\.|p\\\\.m\\\\.))?)',\n",
    "            'EMPHASIS': r\"(?:\\*\\b\\w+\\b\\*)\",\n",
    "            'ELONG': r\"\\b[A-Za-z]*([a-zA-Z])\\1\\1[A-Za-z]*\\b\"\n",
    "        }\n",
    "\n",
    "        self.__regexes = {k: re.compile(self.__regex_dict[k]) for k, v in self.__regex_dict.items()}\n",
    "\n",
    "        self.__contraction_mapping = {\"’\": \"'\", \"RT \": \" \", \"ain't\": \"is not\", \"aren't\": \"are not\", \"can't\": \"can not\",\n",
    "                                      \"'cause\": \"because\", \"could've\": \"could have\",\n",
    "                                      \"couldn't\": \"could not\", \"didn't\": \"did not\", \"doesn't\": \"does not\",\n",
    "                                      \"don't\": \"do not\", \"hadn't\": \"had not\",\n",
    "                                      \"hasn't\": \"has not\", \"haven't\": \"have not\", \"he'd\": \"he would\",\n",
    "                                      \"he'll\": \"he will\",\n",
    "                                      \"he's\": \"he is\",\n",
    "                                      \"how'd\": \"how did\", \"how'd'y\": \"how do you\", \"how'll\": \"how will\",\n",
    "                                      \"how's\": \"how is\", \"I'd\": \"I would\",\n",
    "                                      \"I'd've\": \"I would have\", \"I'll\": \"I will\", \"I'll've\": \"I will have\",\n",
    "                                      \"I'm\": \"I am\",\n",
    "                                      \"I've\": \"I have\",\n",
    "                                      \"i'd\": \"i would\", \"i'd've\": \"i would have\", \"i'll\": \"i will\",\n",
    "                                      \"i'll've\": \"i will have\", \"i'm\": \"i am\",\n",
    "                                      \"i've\": \"i have\", \"isn't\": \"is not\", \"it'd\": \"it would\",\n",
    "                                      \"it'd've\": \"it would have\",\n",
    "                                      \"it'll\": \"it will\",\n",
    "                                      \"it'll've\": \"it will have\", \"it's\": \"it is\", \"it’s\": \"it is\", \"let's\": \"let us\",\n",
    "                                      \"ma'am\": \"madam\", \"mayn't\": \"may not\",\n",
    "                                      \"might've\": \"might have\", \"mightn't\": \"might not\",\n",
    "                                      \"mightn't've\": \"might not have\",\n",
    "                                      \"must've\": \"must have\",\n",
    "                                      \"mustn't\": \"must not\", \"mustn't've\": \"must not have\", \"needn't\": \"need not\",\n",
    "                                      \"needn't've\": \"need not have\",\n",
    "                                      \"o'clock\": \"of the clock\", \"oughtn't\": \"ought not\",\n",
    "                                      \"oughtn't've\": \"ought not have\",\n",
    "                                      \"shan't\": \"shall not\",\n",
    "                                      \"sha'n't\": \"shall not\", \"shan't've\": \"shall not have\", \"she'd\": \"she would\",\n",
    "                                      \"she'd've\": \"she would have\",\n",
    "                                      \"she'll\": \"she will\", \"she'll've\": \"she will have\", \"she's\": \"she is\",\n",
    "                                      \"should've\": \"should have\",\n",
    "                                      \"shouldn't\": \"should not\", \"shouldn't've\": \"should not have\", \"so've\": \"so have\",\n",
    "                                      \"so's\": \"so as\",\n",
    "                                      \"this's\": \"this is\", \"that'd\": \"that would\", \"that'd've\": \"that would have\",\n",
    "                                      \"that's\": \"that is\",\n",
    "                                      \"there'd\": \"there would\", \"there'd've\": \"there would have\", \"there's\": \"there is\",\n",
    "                                      \"here's\": \"here is\",\n",
    "                                      \"they'd\": \"they would\", \"they'd've\": \"they would have\", \"they'll\": \"they will\",\n",
    "                                      \"they'll've\": \"they will have\",\n",
    "                                      \"they're\": \"they are\", \"they've\": \"they have\", \"to've\": \"to have\",\n",
    "                                      \"wasn't\": \"was not\", \"we'd\": \"we would\",\n",
    "                                      \"we'd've\": \"we would have\", \"we'll\": \"we will\", \"we'll've\": \"we will have\",\n",
    "                                      \"we're\": \"we are\", \"we've\": \"we have\",\n",
    "                                      \"weren't\": \"were not\", \"what'll\": \"what will\", \"what'll've\": \"what will have\",\n",
    "                                      \"what're\": \"what are\",\n",
    "                                      \"what's\": \"what is\", \"what've\": \"what have\", \"when's\": \"when is\",\n",
    "                                      \"when've\": \"when have\", \"where'd\": \"where did\",\n",
    "                                      \"where's\": \"where is\", \"where've\": \"where have\", \"who'll\": \"who will\",\n",
    "                                      \"who'll've\": \"who will have\",\n",
    "                                      \"who's\": \"who is\", \"who've\": \"who have\", \"why's\": \"why is\", \"why've\": \"why have\",\n",
    "                                      \"will've\": \"will have\",\n",
    "                                      \"won't\": \"will not\", \"won't've\": \"will not have\", \"would've\": \"would have\",\n",
    "                                      \"wouldn't\": \"would not\",\n",
    "                                      \"wouldn't've\": \"would not have\", \"y'all\": \"you all\", \"y'all'd\": \"you all would\",\n",
    "                                      \"y'all'd've\": \"you all would have\",\n",
    "                                      \"y'all're\": \"you all are\", \"y'all've\": \"you all have\", \"you'd\": \"you would\",\n",
    "                                      \"you'd've\": \"you would have\",\n",
    "                                      \"you'll\": \"you will\", \"you'll've\": \"you will have\", \"you're\": \"you are\",\n",
    "                                      \"you've\": \"you have\", \"It's\": \"It is\", \"You'd\": \"You would\",\n",
    "                                      ' u ': \" you \", 'yrs': 'years', 'FYI': 'For your information', ' im ': ' I am ',\n",
    "                                      'lol': 'LOL', 'You\\'re': 'You are'\n",
    "            , 'can’t': 'can not', '…': '. ', '...': '. ', '\\'\\'': '\\'', '≠': '', 'ain’t': 'am not', 'I’m': 'I am',\n",
    "                                      'RT\\'s': ''}\n",
    "        self.__emoticons = {\n",
    "            ':*': '<kiss>',\n",
    "            ':-*': '<kiss>',\n",
    "            ':x': '<kiss>',\n",
    "            ':-)': '<happy>',\n",
    "            ':-))': '<happy>',\n",
    "            ':-)))': '<happy>',\n",
    "            ':-))))': '<happy>',\n",
    "            ':-)))))': '<happy>',\n",
    "            ':-))))))': '<happy>',\n",
    "            ':)': '<happy>',\n",
    "            ':))': '<happy>',\n",
    "            ':)))': '<happy>',\n",
    "            ':))))': '<happy>',\n",
    "            ':)))))': '<happy>',\n",
    "            ':))))))': '<happy>',\n",
    "            ':)))))))': '<happy>',\n",
    "            ':o)': '<happy>',\n",
    "            ':]': '<happy>',\n",
    "            ':3': '<happy>',\n",
    "            ':c)': '<happy>',\n",
    "            ':>': '<happy>',\n",
    "            '=]': '<happy>',\n",
    "            '8)': '<happy>',\n",
    "            '=)': '<happy>',\n",
    "            ':}': '<happy>',\n",
    "            ':^)': '<happy>',\n",
    "            '|;-)': '<happy>',\n",
    "            \":'-)\": '<happy>',\n",
    "            \":')\": '<happy>',\n",
    "            '\\o/': '<happy>',\n",
    "            '*\\\\0/*': '<happy>',\n",
    "            ':-D': '<laugh>',\n",
    "            ':D': '<laugh>',\n",
    "            '8-D': '<laugh>',\n",
    "            '8D': '<laugh>',\n",
    "            'x-D': '<laugh>',\n",
    "            'xD': '<laugh>',\n",
    "            'X-D': '<laugh>',\n",
    "            'XD': '<laugh>',\n",
    "            '=-D': '<laugh>',\n",
    "            '=D': '<laugh>',\n",
    "            '=-3': '<laugh>',\n",
    "            '=3': '<laugh>',\n",
    "            'B^D': '<laugh>',\n",
    "            '>:[': '<sad>',\n",
    "            ':-(': '<sad>',\n",
    "            ':-((': '<sad>',\n",
    "            ':-(((': '<sad>',\n",
    "            ':-((((': '<sad>',\n",
    "            ':-(((((': '<sad>',\n",
    "            ':-((((((': '<sad>',\n",
    "            ':-(((((((': '<sad>',\n",
    "            ':(': '<sad>',\n",
    "            ':((': '<sad>',\n",
    "            ':(((': '<sad>',\n",
    "            ':((((': '<sad>',\n",
    "            ':(((((': '<sad>',\n",
    "            ':((((((': '<sad>',\n",
    "            ':(((((((': '<sad>',\n",
    "            ':((((((((': '<sad>',\n",
    "            ':-c': '<sad>',\n",
    "            ':c': '<sad>',\n",
    "            ':-<': '<sad>',\n",
    "            ':<': '<sad>',\n",
    "            ':-[': '<sad>',\n",
    "            ':[': '<sad>',\n",
    "            ':{': '<sad>',\n",
    "            ':-||': '<sad>',\n",
    "            ':@': '<sad>',\n",
    "            \":'-(\": '<sad>',\n",
    "            \":'(\": '<sad>',\n",
    "            'D:<': '<sad>',\n",
    "            'D:': '<sad>',\n",
    "            'D8': '<sad>',\n",
    "            'D;': '<sad>',\n",
    "            'D=': '<sad>',\n",
    "            'DX': '<sad>',\n",
    "            'v.v': '<sad>',\n",
    "            \"D-':\": '<sad>',\n",
    "            '(>_<)': '<sad>',\n",
    "            ':|': '<sad>',\n",
    "            '>:O': '<surprise>',\n",
    "            ':-O': '<surprise>',\n",
    "            ':-o': '<surprise>',\n",
    "            ':O': '<surprise>',\n",
    "            '°o°': '<surprise>',\n",
    "            'o_O': '<surprise>',\n",
    "            'o_0': '<surprise>',\n",
    "            'o.O': '<surprise>',\n",
    "            'o-o': '<surprise>',\n",
    "            '8-0': '<surprise>',\n",
    "            '|-O': '<surprise>',\n",
    "            ';-)': '<wink>',\n",
    "            ';)': '<wink>',\n",
    "            '*-)': '<wink>',\n",
    "            '*)': '<wink>',\n",
    "            ';-]': '<wink>',\n",
    "            ';]': '<wink>',\n",
    "            ';D': '<wink>',\n",
    "            ';^)': '<wink>',\n",
    "            ':-,': '<wink>',\n",
    "            '>:P': '<tong>',\n",
    "            ':-P': '<tong>',\n",
    "            ':P': '<tong>',\n",
    "            'X-P': '<tong>',\n",
    "            'x-p': '<tong>',\n",
    "            ':-p': '<tong>',\n",
    "            ':p': '<tong>',\n",
    "            '=p': '<tong>',\n",
    "            ':-Þ': '<tong>',\n",
    "            ':Þ': '<tong>',\n",
    "            ':-b': '<tong>',\n",
    "            ':b': '<tong>',\n",
    "            ':-&': '<tong>',\n",
    "            '>:\\\\': '<annoyed>',\n",
    "            '>:/': '<annoyed>',\n",
    "            ':-/': '<annoyed>',\n",
    "            ':-.': '<annoyed>',\n",
    "            ':/': '<annoyed>',\n",
    "            ':\\\\': '<annoyed>',\n",
    "            '=/': '<annoyed>',\n",
    "            '=\\\\': '<annoyed>',\n",
    "            ':L': '<annoyed>',\n",
    "            '=L': '<annoyed>',\n",
    "            ':S': '<annoyed>',\n",
    "            '>.<': '<annoyed>',\n",
    "            ':-|': '<annoyed>',\n",
    "            '<:-|': '<annoyed>',\n",
    "            ':-X': '<seallips>',\n",
    "            ':X': '<seallips>',\n",
    "            ':-#': '<seallips>',\n",
    "            ':#': '<seallips>',\n",
    "            'O:-)': '<angel>',\n",
    "            '0:-3': '<angel>',\n",
    "            '0:3': '<angel>',\n",
    "            '0:-)': '<angel>',\n",
    "            '0:)': '<angel>',\n",
    "            '0;^)': '<angel>',\n",
    "            '>:)': '<devil>',\n",
    "            '>:D': '<devil>',\n",
    "            '>:-D': '<devil>',\n",
    "            '>;)': '<devil>',\n",
    "            '>:-)': '<devil>',\n",
    "            '}:-)': '<devil>',\n",
    "            '}:)': '<devil>',\n",
    "            '3:-)': '<devil>',\n",
    "            '3:)': '<devil>',\n",
    "            'o/\\o': '<highfive>',\n",
    "            '^5': '<highfive>',\n",
    "            '>_>^': '<highfive>',\n",
    "            '^<_<': '<highfive>',\n",
    "            '<3': '<heart>',\n",
    "            '^3^': '<smile>',\n",
    "            \"(':\": '<smile>',\n",
    "            \" > < \": '<smile>',\n",
    "            \"UvU\": '<smile>',\n",
    "            \"uwu\": '<smile>',\n",
    "            'UwU': '<smile>'\n",
    "        }\n",
    "\n",
    "    def __get_compiled_regexes(self):\n",
    "        regexes = {k: re.compile(self.__regex_dict[k]) for k, v in self.__regex_dict.items()}\n",
    "        return regexes\n",
    "\n",
    "    def map_contractions(self, string_data: str) -> str:\n",
    "        for c in self.__contraction_mapping:\n",
    "            string_data = string_data.replace(c, self.__contraction_mapping[c])\n",
    "        return string_data\n",
    "\n",
    "    def map_emoticons(self, string_data: str) -> str:\n",
    "        for emoticon in self.__emoticons:\n",
    "            string_data = string_data.replace(emoticon, ' ' + self.__emoticons[emoticon][1:-1] + ' ')\n",
    "        return string_data\n",
    "\n",
    "    def delete_emoticons(self, string_data: str) -> str:\n",
    "        for em in self.__emoticons:\n",
    "            string_data = string_data.replace(em, '')\n",
    "        return string_data\n",
    "\n",
    "    def delete_url(self, string_data: str) -> str:\n",
    "        pattern_url = self.__regexes['URL']\n",
    "        return pattern_url.sub('', string_data)\n",
    "\n",
    "    def default_transform(self, string_data: str) -> str:\n",
    "        string_data = unicodedata.normalize('NFKD', string_data).encode('ascii', errors='ignore').decode('utf8',\n",
    "                                                                                                         errors='ignore')\n",
    "        string_data = string_data.lower()\n",
    "        for word in self.__contraction_mapping.keys():\n",
    "            string_data = string_data.replace(word, self.__contraction_mapping[word])\n",
    "        string_data = remove_punctuation(string_data)\n",
    "        string_data = re.sub(r'\\b([b-hB-Hj-zJ-Z] )', ' ', string_data)\n",
    "        string_data = re.sub(r'( [b-hB-Hj-zJ-Z])\\b', ' ', string_data)\n",
    "        string_data = re.sub(r'(istj|istp|isfj|isfp|infj|infp|intj|intp|estp|estj|esfp|esfj|enfp|enfj|entp|entj)',\n",
    "                             '', string_data, flags=re.IGNORECASE)\n",
    "        string_data = ' '.join(string_data.split())\n",
    "        return string_data\n",
    "\n",
    "    def remove_items(self, tags: [str], string_data: str) -> str:\n",
    "        for tag in tags:\n",
    "            if tag not in self.__regexes:\n",
    "                print('wrong tag: ', tag)\n",
    "            else:\n",
    "                string_data = self.__regexes[tag].sub('', string_data)\n",
    "        return string_data\n",
    "\n",
    "    def map_items(self, tags: [str], string_data: str) -> str:\n",
    "        for tag in tags:\n",
    "            if tag not in self.__regexes:\n",
    "                print('wrong tag: ', tag)\n",
    "            else:\n",
    "                string_data = self.__regexes[tag].sub(' <' + tag + '> ', string_data)\n",
    "        return string_data\n",
    "\n",
    "    def remove_all_items(self, string_data: str) -> str:\n",
    "        for _, reg in self.__regexes.items():\n",
    "            string_data = reg.sub('', string_data)\n",
    "        return string_data"
   ]
  },
  {
   "cell_type": "code",
   "execution_count": 196,
   "outputs": [],
   "source": [
    "cleaner = Cleaner()"
   ],
   "metadata": {
    "collapsed": false,
    "pycharm": {
     "name": "#%%\n"
    }
   }
  },
  {
   "cell_type": "markdown",
   "metadata": {},
   "source": [
    "##### Load data from .csv files"
   ]
  },
  {
   "cell_type": "code",
   "execution_count": 197,
   "metadata": {
    "pycharm": {
     "name": "#%%\n"
    }
   },
   "outputs": [
    {
     "name": "stdout",
     "output_type": "stream",
     "text": [
      "Sentiment data loaded\n",
      "Topic data loaded\n"
     ]
    }
   ],
   "source": [
    "import pandas as pd\n",
    "from os import path\n",
    "\n",
    "data_dir = \"data\"\n",
    "train_file_name = \"Train.csv\"\n",
    "test_file_name = \"Test.csv\"\n",
    "\n",
    "train_full_path = path.join(data_dir, train_file_name)\n",
    "test_full_path = path.join(data_dir, test_file_name)\n",
    "\n",
    "\n",
    "def get_data(path_to_csv: str, ys_index: int):\n",
    "    input_data = pd.read_csv(path_to_csv)\n",
    "    xs = input_data[input_data.columns[-1]]\n",
    "    ys = input_data[input_data.columns[ys_index]]\n",
    "    return xs, ys\n",
    "\n",
    "\n",
    "def get_sentiment_data(path_to_csv: str):\n",
    "    xs, ys = get_data(path_to_csv, 1)\n",
    "    xs = [xs[i] for i in range(0, len(xs)) if ys[i] != \"irrelevant\"]\n",
    "    ys = [y for y in ys if y != \"irrelevant\"]\n",
    "    return xs, ys\n",
    "\n",
    "\n",
    "def get_topic_data(path_to_csv: str):\n",
    "    return get_data(path_to_csv, 0)\n",
    "\n",
    "\n",
    "sentiment_xs_train, sentiment_ys_train = get_sentiment_data(train_full_path)\n",
    "sentiment_xs_test, sentiment_ys_test = get_sentiment_data(test_full_path)\n",
    "assert len(sentiment_xs_train) == len(sentiment_ys_train)\n",
    "assert len(sentiment_xs_test) == len(sentiment_ys_test)\n",
    "print(\"Sentiment data loaded\")\n",
    "\n",
    "topic_xs_train, topic_ys_train = get_topic_data(train_full_path)\n",
    "topic_xs_test, topic_ys_test = get_topic_data(test_full_path)\n",
    "assert len(topic_xs_train) == len(topic_ys_train)\n",
    "assert len(topic_xs_test) == len(topic_ys_test)\n",
    "print(\"Topic data loaded\")"
   ]
  },
  {
   "cell_type": "markdown",
   "metadata": {
    "pycharm": {
     "name": "#%% md\n"
    }
   },
   "source": [
    "##### Prepare different initial data for research"
   ]
  },
  {
   "cell_type": "code",
   "execution_count": 198,
   "metadata": {
    "pycharm": {
     "name": "#%%\n"
    },
    "scrolled": true
   },
   "outputs": [],
   "source": [
    "topic_xs_train_0 = [\n",
    "    cleaner.default_transform(x)\n",
    "    for x in topic_xs_train\n",
    "]\n",
    "\n",
    "topic_xs_train_1 = [\n",
    "    cleaner.remove_items(['EMOJI', 'EMAIL', 'CASHTAG', 'DATE', 'EMPHASIS'], x)\n",
    "    for x in topic_xs_train_0\n",
    "]\n",
    "\n",
    "topic_xs_train_1, topic_ys_train_1 = remove_small_tweets(topic_xs_train_1, topic_ys_train)\n",
    "\n",
    "topic_xs_train_2 = [\n",
    "    cleaner.remove_all_items(x)\n",
    "    for x in topic_xs_train\n",
    "]\n",
    "\n",
    "topic_xs_test_0 = [\n",
    "    cleaner.default_transform(x)\n",
    "    for x in topic_xs_test\n",
    "]\n",
    "\n",
    "topic_xs_test_1 = [\n",
    "    cleaner.remove_items(['EMOJI', 'EMAIL', 'CASHTAG', 'DATE', 'EMPHASIS'], x)\n",
    "    for x in topic_xs_test_0\n",
    "]\n",
    "\n",
    "topic_xs_test_1, topic_ys_test_1 = remove_small_tweets(topic_xs_test_1, topic_ys_test)\n",
    "\n",
    "topic_xs_test_2 = [\n",
    "    cleaner.remove_all_items(x)\n",
    "    for x in topic_xs_test_0\n",
    "]\n",
    "\n",
    "sentiment_xs_train_0 = [\n",
    "    cleaner.default_transform(x)\n",
    "    for x in sentiment_xs_train\n",
    "]\n",
    "\n",
    "sentiment_xs_train_1 = [\n",
    "    cleaner.map_emoticons(\n",
    "        cleaner.map_items(['URL', 'EMOJI', 'HASHTAG', 'EMAIL', 'MENTION', 'CASHTAG', 'DATE', 'TIME', 'EMPHASIS'],\n",
    "                          cleaner.map_contractions(x)))\n",
    "    for x in sentiment_xs_train_0\n",
    "]\n",
    "\n",
    "sentiment_xs_train_1, sentiment_ys_train_1 = remove_small_tweets(sentiment_xs_train_1, sentiment_ys_train)\n",
    "\n",
    "sentiment_xs_test_0 = [\n",
    "    cleaner.default_transform(x)\n",
    "    for x in sentiment_xs_test\n",
    "]\n",
    "\n",
    "sentiment_xs_test_1 = [\n",
    "    cleaner.map_emoticons(\n",
    "        cleaner.remove_items(['URL', 'EMOJI', 'HASHTAG', 'EMAIL', 'MENTION', 'CASHTAG', 'DATE', 'TIME', 'EMPHASIS'],\n",
    "                             cleaner.map_contractions(x)))\n",
    "    for x in sentiment_xs_test_0\n",
    "]\n",
    "\n",
    "sentiment_xs_test_1, sentiment_ys_test_1 = remove_small_tweets(sentiment_xs_test_1, sentiment_ys_test)"
   ]
  },
  {
   "cell_type": "markdown",
   "metadata": {
    "id": "TBZAhagktlK9"
   },
   "source": [
    "##### Train Linear Support Vector Classificator and prepare pipelines for sentiment and topic prediction"
   ]
  },
  {
   "cell_type": "code",
   "execution_count": 199,
   "metadata": {
    "colab": {
     "base_uri": "https://localhost:8080/",
     "height": 34
    },
    "id": "jtfOelG-EXBW",
    "outputId": "63b7fecb-2759-4694-9946-05641f88e8c5"
   },
   "outputs": [
    {
     "name": "stdout",
     "output_type": "stream",
     "text": [
      "[Pipeline] ............. (step 1 of 2) Processing tfidf, total=   0.0s\n",
      "[Pipeline] ............... (step 2 of 2) Processing clf, total=   0.0s\n",
      "[Pipeline] ............. (step 1 of 2) Processing tfidf, total=   0.0s\n",
      "[Pipeline] ............... (step 2 of 2) Processing clf, total=   0.0s\n",
      "[Pipeline] ............. (step 1 of 2) Processing tfidf, total=   0.0s\n",
      "[Pipeline] ............... (step 2 of 2) Processing clf, total=   0.0s\n",
      "[Pipeline] ............. (step 1 of 2) Processing tfidf, total=   0.0s\n",
      "[Pipeline] ............... (step 2 of 2) Processing clf, total=   0.0s\n",
      "[Pipeline] ............. (step 1 of 2) Processing tfidf, total=   0.1s\n",
      "[Pipeline] ............... (step 2 of 2) Processing clf, total=   0.0s\n",
      "[Pipeline] ............. (step 1 of 2) Processing tfidf, total=   0.0s\n",
      "[Pipeline] ............... (step 2 of 2) Processing clf, total=   0.0s\n",
      "[Pipeline] ............. (step 1 of 2) Processing tfidf, total=   0.1s\n",
      "[Pipeline] ............... (step 2 of 2) Processing clf, total=   0.0s\n",
      "\n",
      "Topic and sentiment pipelines are ready\n"
     ]
    }
   ],
   "source": [
    "from sklearn.svm import LinearSVC\n",
    "from sklearn.feature_extraction.text import TfidfVectorizer\n",
    "from sklearn.pipeline import Pipeline\n",
    "\n",
    "sentiment_classifier = LinearSVC()\n",
    "pipeline_sentiment = Pipeline([('tfidf', TfidfVectorizer()), ('clf', sentiment_classifier)], verbose=True)\n",
    "pipeline_sentiment.fit(sentiment_xs_train, sentiment_ys_train)\n",
    "\n",
    "sentiment_classifier_0 = LinearSVC()\n",
    "pipeline_sentiment_0 = Pipeline([('tfidf', TfidfVectorizer()), ('clf', sentiment_classifier_0)], verbose=True)\n",
    "pipeline_sentiment_0.fit(sentiment_xs_train_0, sentiment_ys_train)\n",
    "\n",
    "sentiment_classifier_1 = LinearSVC()\n",
    "pipeline_sentiment_1 = Pipeline([('tfidf', TfidfVectorizer()), ('clf', sentiment_classifier_1)], verbose=True)\n",
    "pipeline_sentiment_1.fit(sentiment_xs_train_1, sentiment_ys_train_1)\n",
    "\n",
    "topic_classifier_2 = LinearSVC()\n",
    "pipeline_topic_2 = Pipeline([('tfidf', TfidfVectorizer()), ('clf', topic_classifier_2)], verbose=True)\n",
    "pipeline_topic_2.fit(topic_xs_train_2, topic_ys_train)\n",
    "\n",
    "topic_classifier = LinearSVC()\n",
    "pipeline_topic = Pipeline([('tfidf', TfidfVectorizer()), ('clf', topic_classifier)], verbose=True)\n",
    "pipeline_topic.fit(topic_xs_train, topic_ys_train)\n",
    "\n",
    "topic_classifier_0 = LinearSVC()\n",
    "pipeline_topic_0 = Pipeline([('tfidf', TfidfVectorizer()), ('clf', topic_classifier_0)], verbose=True)\n",
    "pipeline_topic_0.fit(topic_xs_train_0, topic_ys_train)\n",
    "\n",
    "topic_classifier_1 = LinearSVC()\n",
    "pipeline_topic_1 = Pipeline([('tfidf', TfidfVectorizer()), ('clf', topic_classifier_1)], verbose=True)\n",
    "pipeline_topic_1.fit(topic_xs_train_1, topic_ys_train_1)\n",
    "print(\"\\nTopic and sentiment pipelines are ready\")"
   ]
  },
  {
   "cell_type": "markdown",
   "metadata": {
    "pycharm": {
     "name": "#%% md\n"
    }
   },
   "source": [
    "### Make predictions and print classification report"
   ]
  },
  {
   "cell_type": "markdown",
   "source": [
    "#### Sentiment"
   ],
   "metadata": {
    "collapsed": false,
    "pycharm": {
     "name": "#%% md\n"
    }
   }
  },
  {
   "cell_type": "code",
   "execution_count": 200,
   "outputs": [
    {
     "name": "stdout",
     "output_type": "stream",
     "text": [
      "Sentiment classification w/o preprocessing:\n",
      "              precision    recall  f1-score   support\n",
      "\n",
      "    negative       0.67      0.59      0.63        49\n",
      "     neutral       0.81      0.88      0.84       156\n",
      "    positive       0.65      0.47      0.55        32\n",
      "\n",
      "    accuracy                           0.77       237\n",
      "   macro avg       0.71      0.65      0.67       237\n",
      "weighted avg       0.76      0.77      0.76       237\n",
      "\n"
     ]
    }
   ],
   "source": [
    "from sklearn.metrics import classification_report\n",
    "\n",
    "sentiment_predictions = pipeline_sentiment.predict(sentiment_xs_test)\n",
    "print(\"Sentiment classification w/o preprocessing:\")\n",
    "print(classification_report(sentiment_ys_test, sentiment_predictions))"
   ],
   "metadata": {
    "collapsed": false,
    "pycharm": {
     "name": "#%%\n"
    }
   }
  },
  {
   "cell_type": "code",
   "execution_count": 201,
   "outputs": [
    {
     "name": "stdout",
     "output_type": "stream",
     "text": [
      "Sentiment classification results with default preprocessing::\n",
      "              precision    recall  f1-score   support\n",
      "\n",
      "    negative       0.70      0.57      0.63        49\n",
      "     neutral       0.80      0.90      0.85       156\n",
      "    positive       0.65      0.47      0.55        32\n",
      "\n",
      "    accuracy                           0.77       237\n",
      "   macro avg       0.72      0.65      0.67       237\n",
      "weighted avg       0.76      0.77      0.76       237\n",
      "\n"
     ]
    }
   ],
   "source": [
    "from sklearn.metrics import classification_report\n",
    "\n",
    "sentiment_predictions = pipeline_sentiment_0.predict(sentiment_xs_test_0)\n",
    "print(\"Sentiment classification results with default preprocessing::\")\n",
    "print(classification_report(sentiment_ys_test, sentiment_predictions))"
   ],
   "metadata": {
    "collapsed": false,
    "pycharm": {
     "name": "#%%\n"
    }
   }
  },
  {
   "cell_type": "code",
   "execution_count": 202,
   "metadata": {
    "pycharm": {
     "name": "#%%\n"
    }
   },
   "outputs": [
    {
     "name": "stdout",
     "output_type": "stream",
     "text": [
      "Sentiment classification results with hard preprocessing:\n",
      "              precision    recall  f1-score   support\n",
      "\n",
      "    negative       0.70      0.53      0.60        49\n",
      "     neutral       0.80      0.91      0.85       156\n",
      "    positive       0.70      0.50      0.58        32\n",
      "\n",
      "    accuracy                           0.78       237\n",
      "   macro avg       0.73      0.65      0.68       237\n",
      "weighted avg       0.77      0.78      0.76       237\n",
      "\n"
     ]
    }
   ],
   "source": [
    "from sklearn.metrics import classification_report\n",
    "\n",
    "sentiment_predictions = pipeline_sentiment_1.predict(sentiment_xs_test_1)\n",
    "print(\"Sentiment classification results with hard preprocessing:\")\n",
    "print(classification_report(sentiment_ys_test_1, sentiment_predictions))"
   ]
  },
  {
   "cell_type": "markdown",
   "source": [
    "#### Topic"
   ],
   "metadata": {
    "collapsed": false,
    "pycharm": {
     "name": "#%% md\n"
    }
   }
  },
  {
   "cell_type": "code",
   "execution_count": 203,
   "outputs": [
    {
     "name": "stdout",
     "output_type": "stream",
     "text": [
      "Topic classification results with removed all items:\n",
      "              precision    recall  f1-score   support\n",
      "\n",
      "       apple       0.77      0.77      0.77        98\n",
      "      google       0.80      0.65      0.71        79\n",
      "   microsoft       0.70      0.64      0.67        78\n",
      "     twitter       0.59      0.75      0.66        87\n",
      "\n",
      "    accuracy                           0.70       342\n",
      "   macro avg       0.72      0.70      0.70       342\n",
      "weighted avg       0.72      0.70      0.71       342\n",
      "\n"
     ]
    }
   ],
   "source": [
    "topic_predictions = pipeline_topic_2.predict(topic_xs_test_2)\n",
    "print(\"Topic classification results with removed all items:\")\n",
    "print(classification_report(topic_ys_test, topic_predictions))"
   ],
   "metadata": {
    "collapsed": false,
    "pycharm": {
     "name": "#%%\n"
    }
   }
  },
  {
   "cell_type": "code",
   "execution_count": 204,
   "outputs": [
    {
     "name": "stdout",
     "output_type": "stream",
     "text": [
      "Topic classification results w/o preprocessing:\n",
      "              precision    recall  f1-score   support\n",
      "\n",
      "       apple       0.91      0.95      0.93        98\n",
      "      google       0.88      0.80      0.83        79\n",
      "   microsoft       0.85      0.74      0.79        78\n",
      "     twitter       0.77      0.89      0.82        87\n",
      "\n",
      "    accuracy                           0.85       342\n",
      "   macro avg       0.85      0.84      0.85       342\n",
      "weighted avg       0.85      0.85      0.85       342\n",
      "\n"
     ]
    }
   ],
   "source": [
    "topic_predictions = pipeline_topic.predict(topic_xs_test)\n",
    "print(\"Topic classification results w/o preprocessing:\")\n",
    "print(classification_report(topic_ys_test, topic_predictions))"
   ],
   "metadata": {
    "collapsed": false,
    "pycharm": {
     "name": "#%%\n"
    }
   }
  },
  {
   "cell_type": "code",
   "execution_count": 205,
   "outputs": [
    {
     "name": "stdout",
     "output_type": "stream",
     "text": [
      "Topic classification results with default preprocessing:\n",
      "              precision    recall  f1-score   support\n",
      "\n",
      "       apple       0.90      0.95      0.93        98\n",
      "      google       0.85      0.78      0.82        79\n",
      "   microsoft       0.87      0.74      0.80        78\n",
      "     twitter       0.75      0.85      0.80        87\n",
      "\n",
      "    accuracy                           0.84       342\n",
      "   macro avg       0.84      0.83      0.83       342\n",
      "weighted avg       0.84      0.84      0.84       342\n",
      "\n"
     ]
    }
   ],
   "source": [
    "topic_predictions = pipeline_topic_0.predict(topic_xs_test_0)\n",
    "print(\"Topic classification results with default preprocessing:\")\n",
    "print(classification_report(topic_ys_test, topic_predictions))"
   ],
   "metadata": {
    "collapsed": false,
    "pycharm": {
     "name": "#%%\n"
    }
   }
  },
  {
   "cell_type": "code",
   "execution_count": 206,
   "outputs": [
    {
     "name": "stdout",
     "output_type": "stream",
     "text": [
      "Topic classification results with deleted 'EMOJI', 'EMAIL', 'CASHTAG', 'DATE', 'EMPHASIS:\n",
      "              precision    recall  f1-score   support\n",
      "\n",
      "       apple       0.90      0.95      0.93        98\n",
      "      google       0.85      0.78      0.82        79\n",
      "   microsoft       0.87      0.74      0.80        78\n",
      "     twitter       0.75      0.85      0.80        87\n",
      "\n",
      "    accuracy                           0.84       342\n",
      "   macro avg       0.84      0.83      0.83       342\n",
      "weighted avg       0.84      0.84      0.84       342\n",
      "\n"
     ]
    }
   ],
   "source": [
    "topic_predictions = pipeline_topic_1.predict(topic_xs_test_1)\n",
    "print(\"Topic classification results with deleted 'EMOJI', 'EMAIL', 'CASHTAG', 'DATE', 'EMPHASIS:\")\n",
    "print(classification_report(topic_ys_test_1, topic_predictions))"
   ],
   "metadata": {
    "collapsed": false,
    "pycharm": {
     "name": "#%%\n"
    }
   }
  },
  {
   "cell_type": "markdown",
   "metadata": {
    "id": "OeRK8Qv5wVCK"
   },
   "source": [
    "##### Interactive classifier"
   ]
  },
  {
   "cell_type": "code",
   "execution_count": 220,
   "metadata": {
    "pycharm": {
     "name": "#%%\n"
    }
   },
   "outputs": [],
   "source": [
    "def print_tweet_result(tweet: str):\n",
    "    print('Tweet:',\n",
    "          tweet,\n",
    "          \"\\nSentiment: \",\n",
    "          *pipeline_sentiment_1.predict([tweet]),\n",
    "          '\\nOrganisation: ',\n",
    "          *pipeline_topic.predict([tweet])\n",
    "          )"
   ]
  },
  {
   "cell_type": "code",
   "execution_count": 221,
   "outputs": [
    {
     "name": "stdout",
     "output_type": "stream",
     "text": [
      "Tweet: I already hate sitting at the computer \n",
      "Sentiment:  negative \n",
      "Organisation:  microsoft\n"
     ]
    }
   ],
   "source": [
    "tweet = 'I already hate sitting at the computer'\n",
    "print_tweet_result(tweet)"
   ],
   "metadata": {
    "collapsed": false,
    "pycharm": {
     "name": "#%%\n"
    }
   }
  },
  {
   "cell_type": "code",
   "execution_count": null,
   "outputs": [],
   "source": [],
   "metadata": {
    "collapsed": false,
    "pycharm": {
     "name": "#%%\n"
    }
   }
  }
 ],
 "metadata": {
  "colab": {
   "authorship_tag": "ABX9TyMQq9gSLWilEdSYxGmc4Y18",
   "collapsed_sections": [],
   "include_colab_link": true,
   "mount_file_id": "1M5V6t3I58AdtqdpCdQG1kuqux6nmuKes",
   "name": "ML_Lab1.ipynb",
   "provenance": []
  },
  "kernelspec": {
   "display_name": "Python 3 (ipykernel)",
   "language": "python",
   "name": "python3"
  },
  "language_info": {
   "codemirror_mode": {
    "name": "ipython",
    "version": 3
   },
   "file_extension": ".py",
   "mimetype": "text/x-python",
   "name": "python",
   "nbconvert_exporter": "python",
   "pygments_lexer": "ipython3",
   "version": "3.9.7"
  }
 },
 "nbformat": 4,
 "nbformat_minor": 1
}